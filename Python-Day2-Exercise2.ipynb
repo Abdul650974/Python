{
 "cells": [
  {
   "cell_type": "code",
   "execution_count": 10,
   "metadata": {},
   "outputs": [
    {
     "name": "stdout",
     "output_type": "stream",
     "text": [
      "Please enter the number of Trials(1-10), 0 for random trials :0\n",
      "Number of trials = 6\n"
     ]
    }
   ],
   "source": [
    "import random\n",
    "Trials = int(input(\"Please enter the number of Trials(1-10), 0 for random trials :\"))\n",
    "if (Trials == 0):\n",
    "    print(\"Number of trials = {}\".format(random.randrange(0,10,1)))\n",
    "else:\n",
    "    print(f\"Number of trials = {Trials}\")"
   ]
  }
 ],
 "metadata": {
  "kernelspec": {
   "display_name": "Python 3",
   "language": "python",
   "name": "python3"
  },
  "language_info": {
   "codemirror_mode": {
    "name": "ipython",
    "version": 3
   },
   "file_extension": ".py",
   "mimetype": "text/x-python",
   "name": "python",
   "nbconvert_exporter": "python",
   "pygments_lexer": "ipython3",
   "version": "3.8.5"
  }
 },
 "nbformat": 4,
 "nbformat_minor": 4
}
