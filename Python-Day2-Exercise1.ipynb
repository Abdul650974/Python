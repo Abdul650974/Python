{
 "cells": [
  {
   "cell_type": "markdown",
   "metadata": {},
   "source": [
    "First input the first and second decimal numbers"
   ]
  },
  {
   "cell_type": "code",
   "execution_count": 29,
   "metadata": {},
   "outputs": [
    {
     "name": "stdout",
     "output_type": "stream",
     "text": [
      "Enter a decimal number : 90\n",
      "Enter the next decimal number : 352\n"
     ]
    }
   ],
   "source": [
    "FirstNo = float(input(\"Enter a decimal number : \"))\n",
    "SecondNo = float(input(\"Enter the next decimal number : \"))"
   ]
  },
  {
   "cell_type": "markdown",
   "metadata": {},
   "source": [
    "Second output their summation"
   ]
  },
  {
   "cell_type": "code",
   "execution_count": 30,
   "metadata": {},
   "outputs": [
    {
     "name": "stdout",
     "output_type": "stream",
     "text": [
      "Summation of 90.0 + 352.0 = 442.0\n"
     ]
    }
   ],
   "source": [
    "#print(\"Summation of {} + {} = {}\".format(FirstNo, SecondNo, FirstNo+SecondNo))\n",
    "# can be in other form\n",
    "print(f\"Summation of {FirstNo} + {SecondNo} = {FirstNo+SecondNo}\")"
   ]
  }
 ],
 "metadata": {
  "kernelspec": {
   "display_name": "Python 3",
   "language": "python",
   "name": "python3"
  },
  "language_info": {
   "codemirror_mode": {
    "name": "ipython",
    "version": 3
   },
   "file_extension": ".py",
   "mimetype": "text/x-python",
   "name": "python",
   "nbconvert_exporter": "python",
   "pygments_lexer": "ipython3",
   "version": "3.8.5"
  }
 },
 "nbformat": 4,
 "nbformat_minor": 4
}
